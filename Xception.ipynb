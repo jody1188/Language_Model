{
  "nbformat": 4,
  "nbformat_minor": 0,
  "metadata": {
    "colab": {
      "name": "Xception.ipynb",
      "provenance": []
    },
    "kernelspec": {
      "name": "python3",
      "display_name": "Python 3"
    },
    "language_info": {
      "name": "python"
    },
    "accelerator": "GPU",
    "gpuClass": "standard",
    "widgets": {
      "application/vnd.jupyter.widget-state+json": {
        "8070decddace4938bc73189588ec1276": {
          "model_module": "@jupyter-widgets/controls",
          "model_name": "HBoxModel",
          "model_module_version": "1.5.0",
          "state": {
            "_dom_classes": [],
            "_model_module": "@jupyter-widgets/controls",
            "_model_module_version": "1.5.0",
            "_model_name": "HBoxModel",
            "_view_count": null,
            "_view_module": "@jupyter-widgets/controls",
            "_view_module_version": "1.5.0",
            "_view_name": "HBoxView",
            "box_style": "",
            "children": [
              "IPY_MODEL_a438f22d93914bb594283c430419ba05",
              "IPY_MODEL_a4a2833cd72041e0b1a0ca2ccabdee6f",
              "IPY_MODEL_29ae37764c4e4eb9afc7daabcc4e3d45"
            ],
            "layout": "IPY_MODEL_56e4459d26194109a9b449801a07ccfb"
          }
        },
        "a438f22d93914bb594283c430419ba05": {
          "model_module": "@jupyter-widgets/controls",
          "model_name": "HTMLModel",
          "model_module_version": "1.5.0",
          "state": {
            "_dom_classes": [],
            "_model_module": "@jupyter-widgets/controls",
            "_model_module_version": "1.5.0",
            "_model_name": "HTMLModel",
            "_view_count": null,
            "_view_module": "@jupyter-widgets/controls",
            "_view_module_version": "1.5.0",
            "_view_name": "HTMLView",
            "description": "",
            "description_tooltip": null,
            "layout": "IPY_MODEL_a83a5b90806e4dd8afd7654792e91ebd",
            "placeholder": "​",
            "style": "IPY_MODEL_eca1e0b26d9a41d6a7083aa628a3fac1",
            "value": ""
          }
        },
        "a4a2833cd72041e0b1a0ca2ccabdee6f": {
          "model_module": "@jupyter-widgets/controls",
          "model_name": "FloatProgressModel",
          "model_module_version": "1.5.0",
          "state": {
            "_dom_classes": [],
            "_model_module": "@jupyter-widgets/controls",
            "_model_module_version": "1.5.0",
            "_model_name": "FloatProgressModel",
            "_view_count": null,
            "_view_module": "@jupyter-widgets/controls",
            "_view_module_version": "1.5.0",
            "_view_name": "ProgressView",
            "bar_style": "success",
            "description": "",
            "description_tooltip": null,
            "layout": "IPY_MODEL_a9416bfbd6ad45d995e14c07b560886c",
            "max": 170498071,
            "min": 0,
            "orientation": "horizontal",
            "style": "IPY_MODEL_30ee7beba9d4478dac9dd184ad058514",
            "value": 170498071
          }
        },
        "29ae37764c4e4eb9afc7daabcc4e3d45": {
          "model_module": "@jupyter-widgets/controls",
          "model_name": "HTMLModel",
          "model_module_version": "1.5.0",
          "state": {
            "_dom_classes": [],
            "_model_module": "@jupyter-widgets/controls",
            "_model_module_version": "1.5.0",
            "_model_name": "HTMLModel",
            "_view_count": null,
            "_view_module": "@jupyter-widgets/controls",
            "_view_module_version": "1.5.0",
            "_view_name": "HTMLView",
            "description": "",
            "description_tooltip": null,
            "layout": "IPY_MODEL_a63f70feaed04629939ce37470cc3783",
            "placeholder": "​",
            "style": "IPY_MODEL_2c2272ba189c4612a9671e4aa62473db",
            "value": " 170499072/? [00:06&lt;00:00, 32317071.63it/s]"
          }
        },
        "56e4459d26194109a9b449801a07ccfb": {
          "model_module": "@jupyter-widgets/base",
          "model_name": "LayoutModel",
          "model_module_version": "1.2.0",
          "state": {
            "_model_module": "@jupyter-widgets/base",
            "_model_module_version": "1.2.0",
            "_model_name": "LayoutModel",
            "_view_count": null,
            "_view_module": "@jupyter-widgets/base",
            "_view_module_version": "1.2.0",
            "_view_name": "LayoutView",
            "align_content": null,
            "align_items": null,
            "align_self": null,
            "border": null,
            "bottom": null,
            "display": null,
            "flex": null,
            "flex_flow": null,
            "grid_area": null,
            "grid_auto_columns": null,
            "grid_auto_flow": null,
            "grid_auto_rows": null,
            "grid_column": null,
            "grid_gap": null,
            "grid_row": null,
            "grid_template_areas": null,
            "grid_template_columns": null,
            "grid_template_rows": null,
            "height": null,
            "justify_content": null,
            "justify_items": null,
            "left": null,
            "margin": null,
            "max_height": null,
            "max_width": null,
            "min_height": null,
            "min_width": null,
            "object_fit": null,
            "object_position": null,
            "order": null,
            "overflow": null,
            "overflow_x": null,
            "overflow_y": null,
            "padding": null,
            "right": null,
            "top": null,
            "visibility": null,
            "width": null
          }
        },
        "a83a5b90806e4dd8afd7654792e91ebd": {
          "model_module": "@jupyter-widgets/base",
          "model_name": "LayoutModel",
          "model_module_version": "1.2.0",
          "state": {
            "_model_module": "@jupyter-widgets/base",
            "_model_module_version": "1.2.0",
            "_model_name": "LayoutModel",
            "_view_count": null,
            "_view_module": "@jupyter-widgets/base",
            "_view_module_version": "1.2.0",
            "_view_name": "LayoutView",
            "align_content": null,
            "align_items": null,
            "align_self": null,
            "border": null,
            "bottom": null,
            "display": null,
            "flex": null,
            "flex_flow": null,
            "grid_area": null,
            "grid_auto_columns": null,
            "grid_auto_flow": null,
            "grid_auto_rows": null,
            "grid_column": null,
            "grid_gap": null,
            "grid_row": null,
            "grid_template_areas": null,
            "grid_template_columns": null,
            "grid_template_rows": null,
            "height": null,
            "justify_content": null,
            "justify_items": null,
            "left": null,
            "margin": null,
            "max_height": null,
            "max_width": null,
            "min_height": null,
            "min_width": null,
            "object_fit": null,
            "object_position": null,
            "order": null,
            "overflow": null,
            "overflow_x": null,
            "overflow_y": null,
            "padding": null,
            "right": null,
            "top": null,
            "visibility": null,
            "width": null
          }
        },
        "eca1e0b26d9a41d6a7083aa628a3fac1": {
          "model_module": "@jupyter-widgets/controls",
          "model_name": "DescriptionStyleModel",
          "model_module_version": "1.5.0",
          "state": {
            "_model_module": "@jupyter-widgets/controls",
            "_model_module_version": "1.5.0",
            "_model_name": "DescriptionStyleModel",
            "_view_count": null,
            "_view_module": "@jupyter-widgets/base",
            "_view_module_version": "1.2.0",
            "_view_name": "StyleView",
            "description_width": ""
          }
        },
        "a9416bfbd6ad45d995e14c07b560886c": {
          "model_module": "@jupyter-widgets/base",
          "model_name": "LayoutModel",
          "model_module_version": "1.2.0",
          "state": {
            "_model_module": "@jupyter-widgets/base",
            "_model_module_version": "1.2.0",
            "_model_name": "LayoutModel",
            "_view_count": null,
            "_view_module": "@jupyter-widgets/base",
            "_view_module_version": "1.2.0",
            "_view_name": "LayoutView",
            "align_content": null,
            "align_items": null,
            "align_self": null,
            "border": null,
            "bottom": null,
            "display": null,
            "flex": null,
            "flex_flow": null,
            "grid_area": null,
            "grid_auto_columns": null,
            "grid_auto_flow": null,
            "grid_auto_rows": null,
            "grid_column": null,
            "grid_gap": null,
            "grid_row": null,
            "grid_template_areas": null,
            "grid_template_columns": null,
            "grid_template_rows": null,
            "height": null,
            "justify_content": null,
            "justify_items": null,
            "left": null,
            "margin": null,
            "max_height": null,
            "max_width": null,
            "min_height": null,
            "min_width": null,
            "object_fit": null,
            "object_position": null,
            "order": null,
            "overflow": null,
            "overflow_x": null,
            "overflow_y": null,
            "padding": null,
            "right": null,
            "top": null,
            "visibility": null,
            "width": null
          }
        },
        "30ee7beba9d4478dac9dd184ad058514": {
          "model_module": "@jupyter-widgets/controls",
          "model_name": "ProgressStyleModel",
          "model_module_version": "1.5.0",
          "state": {
            "_model_module": "@jupyter-widgets/controls",
            "_model_module_version": "1.5.0",
            "_model_name": "ProgressStyleModel",
            "_view_count": null,
            "_view_module": "@jupyter-widgets/base",
            "_view_module_version": "1.2.0",
            "_view_name": "StyleView",
            "bar_color": null,
            "description_width": ""
          }
        },
        "a63f70feaed04629939ce37470cc3783": {
          "model_module": "@jupyter-widgets/base",
          "model_name": "LayoutModel",
          "model_module_version": "1.2.0",
          "state": {
            "_model_module": "@jupyter-widgets/base",
            "_model_module_version": "1.2.0",
            "_model_name": "LayoutModel",
            "_view_count": null,
            "_view_module": "@jupyter-widgets/base",
            "_view_module_version": "1.2.0",
            "_view_name": "LayoutView",
            "align_content": null,
            "align_items": null,
            "align_self": null,
            "border": null,
            "bottom": null,
            "display": null,
            "flex": null,
            "flex_flow": null,
            "grid_area": null,
            "grid_auto_columns": null,
            "grid_auto_flow": null,
            "grid_auto_rows": null,
            "grid_column": null,
            "grid_gap": null,
            "grid_row": null,
            "grid_template_areas": null,
            "grid_template_columns": null,
            "grid_template_rows": null,
            "height": null,
            "justify_content": null,
            "justify_items": null,
            "left": null,
            "margin": null,
            "max_height": null,
            "max_width": null,
            "min_height": null,
            "min_width": null,
            "object_fit": null,
            "object_position": null,
            "order": null,
            "overflow": null,
            "overflow_x": null,
            "overflow_y": null,
            "padding": null,
            "right": null,
            "top": null,
            "visibility": null,
            "width": null
          }
        },
        "2c2272ba189c4612a9671e4aa62473db": {
          "model_module": "@jupyter-widgets/controls",
          "model_name": "DescriptionStyleModel",
          "model_module_version": "1.5.0",
          "state": {
            "_model_module": "@jupyter-widgets/controls",
            "_model_module_version": "1.5.0",
            "_model_name": "DescriptionStyleModel",
            "_view_count": null,
            "_view_module": "@jupyter-widgets/base",
            "_view_module_version": "1.2.0",
            "_view_name": "StyleView",
            "description_width": ""
          }
        }
      }
    }
  },
  "cells": [
    {
      "cell_type": "markdown",
      "source": [
        "# Xecption"
      ],
      "metadata": {
        "id": "Y9Hs2RA5wAdf"
      }
    },
    {
      "cell_type": "markdown",
      "source": [
        "### Import Module"
      ],
      "metadata": {
        "id": "NaZ0tepDwFqy"
      }
    },
    {
      "cell_type": "code",
      "source": [
        "import torch\n",
        "import torch.nn as nn\n",
        "import torch.nn.functional as F\n",
        "from torchsummary import summary\n",
        "from torch import optim\n",
        "from torchvision import datasets\n",
        "import torchvision.transforms as transforms\n",
        "from torch.utils.data import DataLoader\n",
        "import os\n",
        "from torchvision import utils\n",
        "import numpy as np\n",
        "from torchsummary import summary\n",
        "import time\n",
        "import matplotlib.pyplot as plt\n",
        "%matplotlib inline"
      ],
      "metadata": {
        "id": "lJnXXOWF_vGM"
      },
      "execution_count": 2,
      "outputs": []
    },
    {
      "cell_type": "markdown",
      "source": [
        "### Load Data"
      ],
      "metadata": {
        "id": "6MQ_5xSSTWMC"
      }
    },
    {
      "cell_type": "markdown",
      "source": [
        "### Depth-wise Convolution"
      ],
      "metadata": {
        "id": "3rpcquH5U8Nq"
      }
    },
    {
      "cell_type": "markdown",
      "source": [
        "![](https://img1.daumcdn.net/thumb/R1280x0/?scode=mtistory2&fname=https%3A%2F%2Fblog.kakaocdn.net%2Fdn%2FFBiDE%2FbtqUczJkl0Q%2FlSLn7kwBNe9rPAW4hsBn90%2Fimg.png)\n",
        "\n",
        "- 기존에 Standared Convolution 연산 과정은 Kernel Size x Kernel Size x Input Channel만큼의 parameter가 필요했음\n",
        "\n",
        "- Depth-wise Convolution는 두 단계로 나눠짐.\n",
        "\n",
        "#### < 1. Depth-wise Convolution \b: Filtering stage >\n",
        "- 기존 standard convolution 연산에서는 한 개의 kernel이 channel C에 대해서 연산을 했음.\n",
        "- 그러나 Depth-wise Convolution에서는 channel을 각각 나눠서 계산한다.\n",
        "- 예를 들어, $D_G$ x $D_G$ x M의 tensor가 들어오면 1x1xM의 filter를 이용해 convolution 연산을 하면 $D_G$ x $D_G$ x 1의 shape의 tensor가 나오게 되고 filter가 총 N개 라면 $D_G$ x $D_G$ x $D_G$ x N이 출력이 됩니다.\n",
        "- Kernel Shape = $D_k$ x $D_k$ x N\n",
        "\n",
        "#### < 2.  Pointwise convolution : Combination stage >\n",
        "- Standard convolution의 아웃풋은 standard convolution의 output과 같음.\n",
        "- kernel의 shape가 1 x 1 x M\n",
        "- 1개의 kernel이 input에 대해 계산하기 $D_G$ x $D_G$ x M이 필요함.\n",
        "- Pointwise convolution이 총 연산량은 N x $D_G^2$ x M과 같음."
      ],
      "metadata": {
        "id": "lsUNX4T8BwPR"
      }
    },
    {
      "cell_type": "code",
      "source": [
        "class DepthwiseConv(nn.Module):\n",
        "    def __init__(self, in_channels, out_channels):\n",
        "        super().__init__()\n",
        "\n",
        "        self.Depthwise = nn.Sequential(\n",
        "            nn.Conv2d(in_channels, in_channels, 3, stride=1, padding=1, bias=False), ## depth_wise convolution에서는 in_channels과 out channels를 동일하게 설정 \n",
        "            nn.Conv2d(in_channels, out_channels, 1, stride=1, padding=0, bias=False)\n",
        "        )\n",
        "\n",
        "    def forward(self, x):\n",
        "        x = self.Depthwise(x)\n",
        "        return x"
      ],
      "metadata": {
        "id": "3fVwuNJowKYl"
      },
      "execution_count": 3,
      "outputs": []
    },
    {
      "cell_type": "markdown",
      "source": [
        "### Xception Block\n",
        "\n",
        "![](https://miro.medium.com/max/1400/1*GjiwedRFaBCRvfD0ac93eQ.png)"
      ],
      "metadata": {
        "id": "gC0BVBF-b8hs"
      }
    },
    {
      "cell_type": "code",
      "source": [
        "class EntryFlow(nn.Module): # 위의 구조 Entry Flow와 똑같이 layer를 쌓음 / Inception module\n",
        "    def __init__(self):\n",
        "        super().__init__()\n",
        "\n",
        "        self.conv1 = nn.Sequential(\n",
        "            nn.Conv2d(3, 32, 3, stride=2, padding=1, bias=False), ## in_channels = 3, out_channels = 32, kernel size = 3x3\n",
        "            nn.BatchNorm2d(32), ## conv-layer 후 batchnorm\n",
        "            nn.ReLU(), ## batchnorm -> ReLU\n",
        "            nn.Conv2d(32, 64, 3, stride=1, padding=0, bias=False), ## 다음 convolution layer\n",
        "            nn.BatchNorm2d(64), ## batchnorm\n",
        "            nn.ReLU() \n",
        "        )\n",
        "\n",
        "        self.conv2 = nn.Sequential(\n",
        "            DepthwiseConv(64, 128), ## DepthWise-Convolution out_channels-> 128 size\n",
        "            nn.BatchNorm2d(128),\n",
        "            nn.ReLU(),\n",
        "            DepthwiseConv(128, 128),\n",
        "            nn.BatchNorm2d(128),\n",
        "            nn.MaxPool2d(3, stride=2, padding=1) ## MaxPooling / kernel_size = 2, stride = 2\n",
        "        )\n",
        "\n",
        "        self.conv2_residual = nn.Sequential( ## Residual connection convolution / output size 128로 동일\n",
        "            nn.Conv2d(64, 128, 1, stride=2, padding=0),\n",
        "            nn.BatchNorm2d(128)\n",
        "        )\n",
        "##### 계속 같은 layer가 반복되는 구조 \n",
        "        self.conv3 = nn.Sequential(\n",
        "            nn.ReLU(),\n",
        "            DepthwiseConv(128, 256),\n",
        "            nn.BatchNorm2d(256),\n",
        "            nn.ReLU(),\n",
        "            DepthwiseConv(256, 256),\n",
        "            nn.BatchNorm2d(256),\n",
        "            nn.MaxPool2d(3, stride=2, padding=1)\n",
        "        )\n",
        "\n",
        "        self.conv3_residual = nn.Sequential(\n",
        "            nn.Conv2d(128, 256, 1, stride=2, padding=0),\n",
        "            nn.BatchNorm2d(256)\n",
        "        )\n",
        "\n",
        "        self.conv4 = nn.Sequential(\n",
        "            nn.ReLU(),\n",
        "            DepthwiseConv(256, 728),\n",
        "            nn.BatchNorm2d(728),\n",
        "            nn.ReLU(),\n",
        "            DepthwiseConv(728, 728),\n",
        "            nn.BatchNorm2d(728),\n",
        "            nn.MaxPool2d(3, stride=2, padding=1)\n",
        "        )\n",
        "\n",
        "        self.conv4_residual = nn.Sequential(\n",
        "            nn.Conv2d(256, 728, 1, stride=2, padding=0),\n",
        "            nn.BatchNorm2d(728)\n",
        "        )\n",
        "\n",
        "    def forward(self, x):\n",
        "        x = self.conv1(x)\n",
        "        x = self.conv2(x) + self.conv2_residual(x) ### residual connection으로 output 값에 더해줌 -> gradient vanishing 방지\n",
        "        x = self.conv3(x) + self.conv3_residual(x)\n",
        "        x = self.conv4(x) + self.conv4_residual(x)\n",
        "        return x"
      ],
      "metadata": {
        "id": "tFjUyZB2BrKT"
      },
      "execution_count": 4,
      "outputs": []
    },
    {
      "cell_type": "markdown",
      "source": [
        "### EntryFlow"
      ],
      "metadata": {
        "id": "oyyBSYzBHkOs"
      }
    },
    {
      "cell_type": "markdown",
      "source": [
        "### Middle Flow"
      ],
      "metadata": {
        "id": "1BrAw31NL4aj"
      }
    },
    {
      "cell_type": "code",
      "source": [
        "class MiddleFlow(nn.Module): ## Data가 Entry Flow를 지나 8번의 Middle Flow를 지나게 됨.\n",
        "    def __init__(self):\n",
        "        super().__init__()\n",
        "\n",
        "        self.conv1 = nn.Sequential(\n",
        "            nn.ReLU(),\n",
        "            DepthwiseConv(728, 728),\n",
        "            nn.BatchNorm2d(728),\n",
        "            nn.ReLU(),\n",
        "            DepthwiseConv(728, 728),\n",
        "            nn.BatchNorm2d(728),\n",
        "            nn.ReLU(),\n",
        "            DepthwiseConv(728, 728),\n",
        "            nn.BatchNorm2d(728)\n",
        "        )\n",
        "\n",
        "        self.conv1_residual = nn.Sequential()\n",
        "\n",
        "    def forward(self, x):\n",
        "        return self.conv1(x) + self.conv1_residual(x)"
      ],
      "metadata": {
        "id": "Y_Bq2bUtL2Q2"
      },
      "execution_count": 5,
      "outputs": []
    },
    {
      "cell_type": "markdown",
      "source": [
        "### Exit Flow"
      ],
      "metadata": {
        "id": "E4pI8iJ9MizO"
      }
    },
    {
      "cell_type": "code",
      "source": [
        "class ExitFlow(nn.Module):\n",
        "    def __init__(self, num_classes=10):\n",
        "        super().__init__()\n",
        "\n",
        "        self.conv1 = nn.Sequential(\n",
        "            nn.ReLU(),\n",
        "            DepthwiseConv(728, 1024),\n",
        "            nn.BatchNorm2d(1024),\n",
        "            nn.ReLU(),\n",
        "            DepthwiseConv(1024, 1024),\n",
        "            nn.BatchNorm2d(1024),\n",
        "            nn.MaxPool2d(3, stride=2, padding=1)\n",
        "        )\n",
        "\n",
        "        self.conv1_residual = nn.Sequential(\n",
        "            nn.Conv2d(728, 1024, 1, stride=2, padding=0),\n",
        "            nn.BatchNorm2d(1024)\n",
        "        )\n",
        "\n",
        "        self.conv2 = nn.Sequential(\n",
        "            DepthwiseConv(1024, 1536),\n",
        "            nn.BatchNorm2d(1536),\n",
        "            nn.ReLU(),\n",
        "            DepthwiseConv(1536, 2048),\n",
        "            nn.BatchNorm2d(2048),\n",
        "            nn.ReLU()\n",
        "        )\n",
        "\n",
        "        self.avg_pool = nn.AdaptiveAvgPool2d((1,1)) ### 마지막 average_pooling / output_size = 1x1\n",
        "    \n",
        "    def forward(self, x):\n",
        "        x = self.conv1(x) + self.conv1_residual(x)\n",
        "        x = self.conv2(x)\n",
        "        x = self.avg_pool(x)\n",
        "        return x"
      ],
      "metadata": {
        "id": "riVo5NmWMfhJ"
      },
      "execution_count": 6,
      "outputs": []
    },
    {
      "cell_type": "code",
      "source": [
        "class Xception(nn.Module):\n",
        "    def __init__(self, num_classes=10, init_weights=True):\n",
        "        super().__init__()\n",
        "        self.init_weights = init_weights\n",
        "\n",
        "        self.entry = EntryFlow()\n",
        "        self.middle = self._make_middle_flow()\n",
        "        self.exit = ExitFlow() \n",
        "\n",
        "        #### output_size 1x1 -> 2048로 linear layer에 들어감\n",
        "\n",
        "        self.linear = nn.Linear(2048, num_classes) #### 2048 -> num_classes(output features)\n",
        "\n",
        "        # weights initialization\n",
        "        if self.init_weights:\n",
        "            pass\n",
        "\n",
        "\n",
        "    def forward(self, x):\n",
        "        x = self.entry(x)\n",
        "        x = self.middle(x)\n",
        "        x = self.exit(x)\n",
        "        x = x.view(x.size(0), -1)\n",
        "        x = self.linear(x)\n",
        "        return x\n",
        "\n",
        "    def _make_middle_flow(self):\n",
        "        middle = nn.Sequential()\n",
        "        for i in range(8):\n",
        "            middle.add_module('middle_block_{}'.format(i), MiddleFlow())\n",
        "        return middle\n",
        "\n",
        "    def _initialize_weights(self): ### initial weights (가중치 초기화) -> He initialization\n",
        "        for m in self.modules():\n",
        "            if isinstance(m, nn.Conv2d):\n",
        "                nn.init_kaiming_normal_(m.weight, mode='fan_out', nonlinearity='relu') ### fan_out -> 최댓값\n",
        "                if m.bias is not None:\n",
        "                    nn.init_constant_(m.bias, 0)\n",
        "            elif isinstance(m, nn.BatchNorm2d):\n",
        "                nn.init_constant_(m.weight, 1)\n",
        "                nn.init_bias_(m.bias, 0)\n",
        "            elif isinstance(m, nn.Linear):\n",
        "                nn.init_normal_(m.weight, 0, 0.01)\n",
        "                nn.init_constant_(m.bias, 0)"
      ],
      "metadata": {
        "id": "9Za9ZKu8OCNX"
      },
      "execution_count": 7,
      "outputs": []
    },
    {
      "cell_type": "code",
      "source": [
        "device = torch.device('cuda' if torch.cuda.is_available() else 'cpu')\n",
        "model = Xception().to(device)"
      ],
      "metadata": {
        "id": "qLr7mq4dONDC"
      },
      "execution_count": 9,
      "outputs": []
    },
    {
      "cell_type": "code",
      "source": [
        "train_dataset = datasets.CIFAR10(root='./data', train=True, download=True, transform=transforms.ToTensor())\n",
        "valid_dataset = datasets.CIFAR10(root='./data', train=True, download=True, transform=transforms.ToTensor())\n",
        "test_dataset = datasets.CIFAR10(root='./data', train=False, download=True, transform=transforms.ToTensor())\n",
        "print(len(train_dataset))\n",
        "print(len(valid_dataset))"
      ],
      "metadata": {
        "colab": {
          "base_uri": "https://localhost:8080/",
          "height": 176,
          "referenced_widgets": [
            "8070decddace4938bc73189588ec1276",
            "a438f22d93914bb594283c430419ba05",
            "a4a2833cd72041e0b1a0ca2ccabdee6f",
            "29ae37764c4e4eb9afc7daabcc4e3d45",
            "56e4459d26194109a9b449801a07ccfb",
            "a83a5b90806e4dd8afd7654792e91ebd",
            "eca1e0b26d9a41d6a7083aa628a3fac1",
            "a9416bfbd6ad45d995e14c07b560886c",
            "30ee7beba9d4478dac9dd184ad058514",
            "a63f70feaed04629939ce37470cc3783",
            "2c2272ba189c4612a9671e4aa62473db"
          ]
        },
        "id": "vaz4qhvBOVQv",
        "outputId": "cfb06054-ebf9-4c61-c1e1-7d39a2d5fb75"
      },
      "execution_count": 12,
      "outputs": [
        {
          "output_type": "stream",
          "name": "stdout",
          "text": [
            "Downloading https://www.cs.toronto.edu/~kriz/cifar-10-python.tar.gz to ./data/cifar-10-python.tar.gz\n"
          ]
        },
        {
          "output_type": "display_data",
          "data": {
            "text/plain": [
              "  0%|          | 0/170498071 [00:00<?, ?it/s]"
            ],
            "application/vnd.jupyter.widget-view+json": {
              "version_major": 2,
              "version_minor": 0,
              "model_id": "8070decddace4938bc73189588ec1276"
            }
          },
          "metadata": {}
        },
        {
          "output_type": "stream",
          "name": "stdout",
          "text": [
            "Extracting ./data/cifar-10-python.tar.gz to ./data\n",
            "Files already downloaded and verified\n",
            "Files already downloaded and verified\n",
            "50000\n",
            "50000\n"
          ]
        }
      ]
    },
    {
      "cell_type": "code",
      "source": [
        "train_dataset.tranform = transforms.Compose([\n",
        "                    transforms.ToTensor(),\n",
        "                    transforms.Resize(299)]) ### size를 299로 \n",
        "\n",
        "valid_dataset.tranform = transforms.Compose([\n",
        "                    transforms.ToTensor(),\n",
        "                    transforms.Resize(299)])\n",
        "\n",
        "test_dataset.tranform = transforms.Compose([\n",
        "                    transforms.ToTensor(),\n",
        "                    transforms.Resize(299)])\n"
      ],
      "metadata": {
        "id": "-gSZWNkMXAyr"
      },
      "execution_count": 19,
      "outputs": []
    },
    {
      "cell_type": "code",
      "source": [
        "train_dataloader = DataLoader(train_dataset, batch_size=32, shuffle=True)\n",
        "valid_dataloader = DataLoader(valid_dataset, batch_size=32, shuffle=True)\n",
        "test_dataloader = DataLoader(test_dataset, batch_size=32, shuffle=False)"
      ],
      "metadata": {
        "id": "GUGRT8kzXyub"
      },
      "execution_count": 20,
      "outputs": []
    },
    {
      "cell_type": "code",
      "source": [
        "optimizer= optim.Adam(model.parameters(), lr= 1e-2)\n",
        "loss_fn= nn.CrossEntropyLoss().cuda()"
      ],
      "metadata": {
        "id": "0BefIS0RZPWc"
      },
      "execution_count": 22,
      "outputs": []
    },
    {
      "cell_type": "code",
      "source": [
        "for epoch in range(50):\n",
        "    running_loss= 0\n",
        "    validation_loss= 0\n",
        "    model.train()\n",
        "    print(f\"Training epoch: {epoch+1}\")\n",
        "    for batch_ix, (imgs, targets) in enumerate(train_dataloader):\n",
        "        imgs, targets= imgs.cuda(), targets.cuda()\n",
        "        outs= model(imgs)\n",
        "        loss= loss_fn(outs, targets)\n",
        "        running_loss+= loss.item()\n",
        "        optimizer.zero_grad()\n",
        "        loss.backward()\n",
        "        optimizer.step()\n",
        "    print(f\"Train loss: {running_loss/len(train_dataloader)}\")\n",
        "    model.eval()\n",
        "    for batch_ix, (imgs, targets) in enumerate(test_dataloader):\n",
        "        imgs, targets= imgs.cuda(), targets.cuda()\n",
        "        outs= model(imgs)\n",
        "        with torch.no_grad():\n",
        "            loss= loss_fn(outs, targets)\n",
        "        validation_loss+= loss.item()\n",
        "    print(f\"Validation loss: {validation_loss/len(test_dataloader)}\")\n",
        "    torch.save(model.state_dict(), f\"{epoch+1}.pth\")\n",
        "    print(\"Checkpoint saved\\n\\n\")"
      ],
      "metadata": {
        "colab": {
          "base_uri": "https://localhost:8080/"
        },
        "id": "q6jEkgmmYX2y",
        "outputId": "aeef6af2-6b4c-48b0-dbcc-0d64e929d187"
      },
      "execution_count": null,
      "outputs": [
        {
          "output_type": "stream",
          "name": "stdout",
          "text": [
            "Training epoch: 1\n",
            "Train loss: 2.3413470719612643\n",
            "Validation loss: 1.9369917460523856\n",
            "Checkpoint saved\n",
            "\n",
            "\n",
            "Training epoch: 2\n",
            "Train loss: 1.8096344176577361\n",
            "Validation loss: 1.7412323083359593\n",
            "Checkpoint saved\n",
            "\n",
            "\n",
            "Training epoch: 3\n",
            "Train loss: 1.5849044795457323\n",
            "Validation loss: 1.510769286094763\n",
            "Checkpoint saved\n",
            "\n",
            "\n",
            "Training epoch: 4\n",
            "Train loss: 1.4514314256565584\n",
            "Validation loss: 1.395704203520339\n",
            "Checkpoint saved\n",
            "\n",
            "\n",
            "Training epoch: 5\n",
            "Train loss: 1.3379181061733707\n",
            "Validation loss: 1.4586783826541596\n",
            "Checkpoint saved\n",
            "\n",
            "\n",
            "Training epoch: 6\n",
            "Train loss: 1.2405835401150025\n",
            "Validation loss: 1.2234804538873056\n",
            "Checkpoint saved\n",
            "\n",
            "\n",
            "Training epoch: 7\n",
            "Train loss: 1.1686699927348931\n",
            "Validation loss: 1.1453938396594014\n",
            "Checkpoint saved\n",
            "\n",
            "\n",
            "Training epoch: 8\n",
            "Train loss: 1.0974433865595992\n",
            "Validation loss: 1.1026344470703564\n",
            "Checkpoint saved\n",
            "\n",
            "\n",
            "Training epoch: 9\n",
            "Train loss: 1.03459681952831\n",
            "Validation loss: 1.015664773627211\n",
            "Checkpoint saved\n",
            "\n",
            "\n",
            "Training epoch: 10\n",
            "Train loss: 0.9728504816881755\n",
            "Validation loss: 1.0026570770877619\n",
            "Checkpoint saved\n",
            "\n",
            "\n",
            "Training epoch: 11\n",
            "Train loss: 0.9114213660788398\n",
            "Validation loss: 0.9422136769888881\n",
            "Checkpoint saved\n",
            "\n",
            "\n",
            "Training epoch: 12\n",
            "Train loss: 0.8681726924936816\n",
            "Validation loss: 0.8772502274939808\n",
            "Checkpoint saved\n",
            "\n",
            "\n",
            "Training epoch: 13\n",
            "Train loss: 0.8189704218546855\n",
            "Validation loss: 0.8725593101483183\n",
            "Checkpoint saved\n",
            "\n",
            "\n",
            "Training epoch: 14\n",
            "Train loss: 0.7780658167596818\n",
            "Validation loss: 0.9078303068019331\n",
            "Checkpoint saved\n",
            "\n",
            "\n",
            "Training epoch: 15\n",
            "Train loss: 0.73863280690868\n",
            "Validation loss: 0.839638780100277\n",
            "Checkpoint saved\n",
            "\n",
            "\n",
            "Training epoch: 16\n",
            "Train loss: 0.7033971335669778\n",
            "Validation loss: 0.9030338066835373\n",
            "Checkpoint saved\n",
            "\n",
            "\n",
            "Training epoch: 17\n",
            "Train loss: 0.6712770949970509\n",
            "Validation loss: 0.8187458920783509\n",
            "Checkpoint saved\n",
            "\n",
            "\n",
            "Training epoch: 18\n",
            "Train loss: 0.6412137341914997\n",
            "Validation loss: 0.8421996458650778\n",
            "Checkpoint saved\n",
            "\n",
            "\n",
            "Training epoch: 19\n",
            "Train loss: 0.6104760376959372\n",
            "Validation loss: 0.8486337704589954\n",
            "Checkpoint saved\n",
            "\n",
            "\n",
            "Training epoch: 20\n",
            "Train loss: 0.581694960603711\n",
            "Validation loss: 0.8487587801564616\n",
            "Checkpoint saved\n",
            "\n",
            "\n",
            "Training epoch: 21\n",
            "Train loss: 0.5482797735559581\n",
            "Validation loss: 0.786093293668363\n",
            "Checkpoint saved\n",
            "\n",
            "\n",
            "Training epoch: 22\n",
            "Train loss: 0.5217137729948099\n",
            "Validation loss: 0.791697491853001\n",
            "Checkpoint saved\n",
            "\n",
            "\n",
            "Training epoch: 23\n",
            "Train loss: 0.5005746367205738\n",
            "Validation loss: 0.783152532939332\n",
            "Checkpoint saved\n",
            "\n",
            "\n",
            "Training epoch: 24\n",
            "Train loss: 0.47516568261541314\n",
            "Validation loss: 0.8097488364567772\n",
            "Checkpoint saved\n",
            "\n",
            "\n",
            "Training epoch: 25\n",
            "Train loss: 0.45148663117919147\n",
            "Validation loss: 0.8272226542329636\n",
            "Checkpoint saved\n",
            "\n",
            "\n",
            "Training epoch: 26\n",
            "Train loss: 0.4270520283627876\n",
            "Validation loss: 0.833382210792444\n",
            "Checkpoint saved\n",
            "\n",
            "\n",
            "Training epoch: 27\n",
            "Train loss: 0.4080026260721935\n",
            "Validation loss: 0.857442096399423\n",
            "Checkpoint saved\n",
            "\n",
            "\n",
            "Training epoch: 28\n",
            "Train loss: 0.3844044203521423\n",
            "Validation loss: 0.811471653917727\n",
            "Checkpoint saved\n",
            "\n",
            "\n",
            "Training epoch: 29\n",
            "Train loss: 0.3711613491392067\n",
            "Validation loss: 0.8930177317259792\n",
            "Checkpoint saved\n",
            "\n",
            "\n",
            "Training epoch: 30\n",
            "Train loss: 0.35203061189910045\n",
            "Validation loss: 0.8031964662452095\n",
            "Checkpoint saved\n",
            "\n",
            "\n",
            "Training epoch: 31\n",
            "Train loss: 0.337395525641706\n",
            "Validation loss: 0.9129334012635599\n",
            "Checkpoint saved\n",
            "\n",
            "\n",
            "Training epoch: 32\n",
            "Train loss: 0.3223573108175704\n",
            "Validation loss: 0.8780502277060439\n",
            "Checkpoint saved\n",
            "\n",
            "\n",
            "Training epoch: 33\n",
            "Train loss: 0.3082499383726489\n",
            "Validation loss: 0.8908309160044399\n",
            "Checkpoint saved\n",
            "\n",
            "\n",
            "Training epoch: 34\n",
            "Train loss: 0.29354974389152505\n",
            "Validation loss: 0.8980260522792134\n",
            "Checkpoint saved\n",
            "\n",
            "\n",
            "Training epoch: 35\n",
            "Train loss: 0.27752422610141686\n",
            "Validation loss: 0.9038003777353146\n",
            "Checkpoint saved\n",
            "\n",
            "\n",
            "Training epoch: 36\n"
          ]
        }
      ]
    },
    {
      "cell_type": "code",
      "source": [
        ""
      ],
      "metadata": {
        "id": "_kBLFnYJZHyr"
      },
      "execution_count": null,
      "outputs": []
    }
  ]
}